{
  "nbformat": 4,
  "nbformat_minor": 0,
  "metadata": {
    "colab": {
      "name": "One-Class-Classification Algorithms for Imbalanced Datasets.ipynb",
      "provenance": [],
      "collapsed_sections": [],
      "authorship_tag": "ABX9TyOXoQVyrPq55hDV2TFF2fmy",
      "include_colab_link": true
    },
    "kernelspec": {
      "name": "python3",
      "display_name": "Python 3"
    },
    "accelerator": "GPU"
  },
  "cells": [
    {
      "cell_type": "markdown",
      "metadata": {
        "id": "view-in-github",
        "colab_type": "text"
      },
      "source": [
        "<a href=\"https://colab.research.google.com/github/plaban1981/One-Class-Classification/blob/master/One_Class_Classification_Algorithms_for_Imbalanced_Datasets.ipynb\" target=\"_parent\"><img src=\"https://colab.research.google.com/assets/colab-badge.svg\" alt=\"Open In Colab\"/></a>"
      ]
    },
    {
      "cell_type": "markdown",
      "metadata": {
        "id": "vOv9QsoTvCBQ",
        "colab_type": "text"
      },
      "source": [
        "## Outliers\n",
        "Outliers or anomalies are rare examples that do not fit in with the rest of the data.\n",
        "\n",
        "https://machinelearningmastery.com/one-class-classification-algorithms/\n"
      ]
    },
    {
      "cell_type": "markdown",
      "metadata": {
        "id": "dtiGmA64vSQl",
        "colab_type": "text"
      },
      "source": [
        "**Identifying outliers in data is referred to as outlier or anomaly detection and a subfield of machine learning focused on this problem is referred to as one-class classification.**\n",
        "\n",
        "These are **unsupervised learning algorithms** that attempt to model “normal” examples in order to classify new examples as either normal or abnormal (e.g. outliers)."
      ]
    },
    {
      "cell_type": "markdown",
      "metadata": {
        "id": "rmX_r5QAxNHD",
        "colab_type": "text"
      },
      "source": [
        "* One-class classification algorithms can be used for binary classification tasks with a severely skewed class distribution.\n",
        "* one-class classification algorithms can be effective for imbalanced classification datasets where there are none or very few examples of the minority class, or datasets where there is no coherent structure to separate the classes that could be learned by a supervised algorithm."
      ]
    },
    {
      "cell_type": "markdown",
      "metadata": {
        "id": "nQTOx1q-xsRC",
        "colab_type": "text"
      },
      "source": [
        "## Objective \n",
        "\n",
        "* **One-class classification** is a field of machine learning that provides techniques for outlier and anomaly detection.\n",
        "* How to **adapt one-class classification algorithms for imbalanced classification with a severely skewed class distribution**.\n",
        "* How to fit and evaluate **one-class classification algorithms such as SVM, isolation forest, elliptic envelope, and local outlier factor**."
      ]
    },
    {
      "cell_type": "markdown",
      "metadata": {
        "id": "GxPJP8UNycA_",
        "colab_type": "text"
      },
      "source": [
        "## One-Class Classification for Imbalanced Data"
      ]
    },
    {
      "cell_type": "markdown",
      "metadata": {
        "id": "CB4plG6tIQz3",
        "colab_type": "text"
      },
      "source": [
        "**The process of identifying outliers in a dataset is generally referred to as anomaly detection, where the outliers are “anomalies,” and the rest of the data is “normal.”** \n",
        "\n",
        "Outlier detection or anomaly detection is a challenging problem and is comprised of a range of techniques.\n",
        "\n",
        "\n",
        "#### In machine learning, one approach to tackling the problem of anomaly detection is one-class classification.\n",
        "\n",
        "**One-Class Classification, or OCC** for short, involves fitting a model on the “normal” data and predicting whether new data is normal or an outlier/anomaly."
      ]
    },
    {
      "cell_type": "markdown",
      "metadata": {
        "id": "ZplY4gHaIyw6",
        "colab_type": "text"
      },
      "source": [
        "**One-class classification techniques can be used for binary (two-class) imbalanced classification problems where the negative case (class 0) is taken as “normal” and the positive case (class 1) is taken as an outlier or anomaly.**\n",
        "\n",
        "* Negative Case: Normal or inlier.\n",
        "* Positive Case: Anomaly or outlier."
      ]
    },
    {
      "cell_type": "markdown",
      "metadata": {
        "id": "OO5NLg6zJRdS",
        "colab_type": "text"
      },
      "source": [
        "## Generate and plot a synthetic imbalanced classification dataset\n"
      ]
    },
    {
      "cell_type": "code",
      "metadata": {
        "id": "zOoYOpu2ydM6",
        "colab_type": "code",
        "colab": {
          "base_uri": "https://localhost:8080/",
          "height": 298
        },
        "outputId": "b83713f9-55c6-4c93-80cc-1cb79ddfd449"
      },
      "source": [
        "from collections import Counter\n",
        "from sklearn.datasets import make_classification\n",
        "import matplotlib.pyplot as plt\n",
        "from numpy import where\n",
        "# define dataset\n",
        "X, y = make_classification(n_samples=10000, n_features=2, n_redundant=0,\n",
        "\tn_clusters_per_class=1, weights=[0.999], flip_y=0, random_state=4)\n",
        "# summarize class distribution\n",
        "counter = Counter(y)\n",
        "print(counter)\n",
        "# scatter plot of examples by class label\n",
        "for label, _ in counter.items():\n",
        "\trow_ix = where(y == label)[0]\n",
        "\tplt.scatter(X[row_ix, 0], X[row_ix, 1], label=str(label))\n",
        "plt.legend()\n",
        "plt.title('Scatter Plot of a Binary Classification Problem With a 1 to 1000 Class Imbalance')\n",
        "plt.show()"
      ],
      "execution_count": 4,
      "outputs": [
        {
          "output_type": "stream",
          "text": [
            "Counter({0: 9990, 1: 10})\n"
          ],
          "name": "stdout"
        },
        {
          "output_type": "display_data",
          "data": {
            "image/png": "[encoded data removed]",
            "text/plain": [
              "<Figure size 432x288 with 1 Axes>"
            ]
          },
          "metadata": {
            "tags": []
          }
        }
      ]
    },
    {
      "cell_type": "code",
      "metadata": {
        "id": "pL4i9lN6YHRo",
        "colab_type": "code",
        "colab": {
          "base_uri": "https://localhost:8080/",
          "height": 265
        },
        "outputId": "39b176ea-b900-46a0-e17a-d4257811df0e"
      },
      "source": [
        "plt.hist(y)\n",
        "plt.show()"
      ],
      "execution_count": 34,
      "outputs": [
        {
          "output_type": "display_data",
          "data": {
            "image/png": "[encoded data removed]",
            "text/plain": [
              "<Figure size 432x288 with 1 Axes>"
            ]
          },
          "metadata": {
            "tags": []
          }
        }
      ]
    },
    {
      "cell_type": "markdown",
      "metadata": {
        "id": "wqLxVgsIY-3O",
        "colab_type": "text"
      },
      "source": [
        "0 is the majority class here"
      ]
    },
    {
      "cell_type": "markdown",
      "metadata": {
        "id": "C_FZEtB-KE58",
        "colab_type": "text"
      },
      "source": [
        "This severe class imbalance with so few examples in the positive class and the unstructured nature of the few examples in the positive class might make a good basis for using one-class classification methods."
      ]
    },
    {
      "cell_type": "markdown",
      "metadata": {
        "id": "UGAB0qsgK8Me",
        "colab_type": "text"
      },
      "source": [
        "##One-Class Support Vector Machines"
      ]
    },
    {
      "cell_type": "code",
      "metadata": {
        "id": "F8odSXykuoTW",
        "colab_type": "code",
        "colab": {}
      },
      "source": [
        "from sklearn.metrics import f1_score\n",
        "from sklearn.svm import OneClassSVM"
      ],
      "execution_count": 0,
      "outputs": []
    },
    {
      "cell_type": "markdown",
      "metadata": {
        "id": "21MEHS9MOvoY",
        "colab_type": "text"
      },
      "source": [
        "## Split the training data"
      ]
    },
    {
      "cell_type": "code",
      "metadata": {
        "id": "HBL8I7hPPIdd",
        "colab_type": "code",
        "colab": {}
      },
      "source": [
        "from sklearn.model_selection import train_test_split\n",
        "X_train,X_test,y_train,y_test = train_test_split(X, y, test_size=0.5, random_state=2, stratify=y)"
      ],
      "execution_count": 0,
      "outputs": []
    },
    {
      "cell_type": "markdown",
      "metadata": {
        "id": "K7HhmftnQZ64",
        "colab_type": "text"
      },
      "source": [
        "## define outlier detection model\n",
        "\n",
        "#### In this case, we will try fitting on just those examples in the training set that belong to the majority class."
      ]
    },
    {
      "cell_type": "code",
      "metadata": {
        "id": "Ko-PColqQb3i",
        "colab_type": "code",
        "colab": {
          "base_uri": "https://localhost:8080/",
          "height": 51
        },
        "outputId": "f27fdd38-319e-41b9-9804-8a7a43a60474"
      },
      "source": [
        "model = OneClassSVM(gamma='scale', nu=0.01)\n",
        "# fit on majority class\n",
        "trainX = X_train[y_train ==0]\n",
        "model.fit(trainX)"
      ],
      "execution_count": 7,
      "outputs": [
        {
          "output_type": "execute_result",
          "data": {
            "text/plain": [
              "OneClassSVM(cache_size=200, coef0=0.0, degree=3, gamma='scale', kernel='rbf',\n",
              "            max_iter=-1, nu=0.01, shrinking=True, tol=0.001, verbose=False)"
            ]
          },
          "metadata": {
            "tags": []
          },
          "execution_count": 7
        }
      ]
    },
    {
      "cell_type": "markdown",
      "metadata": {
        "id": "kjelqa1LXdfg",
        "colab_type": "text"
      },
      "source": [
        "Once fit, the model can be used to identify outliers in new data.\n",
        "\n",
        "When calling the predict() function on the model, it will output a +1 for normal examples, so-called inliers, and a -1 for outliers.\n",
        "\n",
        "* Inlier Prediction: +1\n",
        "* Outlier Prediction: -1"
      ]
    },
    {
      "cell_type": "markdown",
      "metadata": {
        "id": "3kXiUp5ISjBW",
        "colab_type": "text"
      },
      "source": [
        "## detect outliers in the test set"
      ]
    },
    {
      "cell_type": "code",
      "metadata": {
        "id": "BnxnS5GuRK_O",
        "colab_type": "code",
        "colab": {}
      },
      "source": [
        "yhat = model.predict(X_test)"
      ],
      "execution_count": 0,
      "outputs": []
    },
    {
      "cell_type": "code",
      "metadata": {
        "id": "ZA1o54m9RPvb",
        "colab_type": "code",
        "colab": {
          "base_uri": "https://localhost:8080/",
          "height": 34
        },
        "outputId": "a63495db-ab17-4c85-f951-2c9758f86a35"
      },
      "source": [
        "yhat"
      ],
      "execution_count": 9,
      "outputs": [
        {
          "output_type": "execute_result",
          "data": {
            "text/plain": [
              "array([1, 1, 1, ..., 1, 1, 1])"
            ]
          },
          "metadata": {
            "tags": []
          },
          "execution_count": 9
        }
      ]
    },
    {
      "cell_type": "markdown",
      "metadata": {
        "id": "DcG42sHzYEKV",
        "colab_type": "text"
      },
      "source": [
        "If we want to evaluate the performance of the model as a binary classifier, we must change the labels in the test dataset from 0 and 1 for the majority and minority classes respectively, to +1 and -1."
      ]
    },
    {
      "cell_type": "code",
      "metadata": {
        "id": "bsbW5nFCSGnO",
        "colab_type": "code",
        "colab": {}
      },
      "source": [
        "y_test[y_test == 1] = -1\n",
        "y_test[y_test == 0] = 1"
      ],
      "execution_count": 0,
      "outputs": []
    },
    {
      "cell_type": "markdown",
      "metadata": {
        "id": "cG3VZGQJZInx",
        "colab_type": "text"
      },
      "source": [
        "## calculate F1 score for the imbalanced dataset"
      ]
    },
    {
      "cell_type": "code",
      "metadata": {
        "id": "4GsAv9PdRyp3",
        "colab_type": "code",
        "colab": {
          "base_uri": "https://localhost:8080/",
          "height": 34
        },
        "outputId": "e9a83234-5694-4a03-dbbf-9d3ffba45b13"
      },
      "source": [
        "score = f1_score(y_test, yhat, pos_label=-1)\n",
        "print('F1 Score: %.3f' % score)"
      ],
      "execution_count": 16,
      "outputs": [
        {
          "output_type": "stream",
          "text": [
            "F1 Score: 0.123\n"
          ],
          "name": "stdout"
        }
      ]
    },
    {
      "cell_type": "markdown",
      "metadata": {
        "id": "RpGg1CV7Th7S",
        "colab_type": "text"
      },
      "source": [
        "## Isolation Forest\n",
        "Isolation Forest, or iForest for short, is a tree-based anomaly detection algorithm.\n",
        "\n",
        "It is based on modeling the normal data in such a way to isolate anomalies that are both few in number and different in the feature space."
      ]
    },
    {
      "cell_type": "code",
      "metadata": {
        "id": "yVRfWfItUA-8",
        "colab_type": "code",
        "colab": {
          "base_uri": "https://localhost:8080/",
          "height": 88
        },
        "outputId": "2d583d00-a442-4510-c3e6-bb07f170c0e0"
      },
      "source": [
        "from sklearn.ensemble import IsolationForest\n",
        "# define outlier detection model\n",
        "model = IsolationForest(contamination=0.01, behaviour='new')\n",
        "model.fit(X_train,y_train)\n",
        "y_pred = model.predict(X_test)\n",
        "f1_score(y_test,y_pred)"
      ],
      "execution_count": 19,
      "outputs": [
        {
          "output_type": "stream",
          "text": [
            "/usr/local/lib/python3.6/dist-packages/sklearn/ensemble/_iforest.py:248: FutureWarning: 'behaviour' is deprecated in 0.22 and will be removed in 0.24. You should not pass or set this parameter.\n",
            "  FutureWarning\n"
          ],
          "name": "stderr"
        },
        {
          "output_type": "execute_result",
          "data": {
            "text/plain": [
              "0.9963862678177073"
            ]
          },
          "metadata": {
            "tags": []
          },
          "execution_count": 19
        }
      ]
    },
    {
      "cell_type": "code",
      "metadata": {
        "id": "qK_cJhaaUXEs",
        "colab_type": "code",
        "colab": {
          "base_uri": "https://localhost:8080/",
          "height": 34
        },
        "outputId": "dca9f5b2-58c5-4c3e-d8d1-ad7b2ee669aa"
      },
      "source": [
        "Counter(y_test)"
      ],
      "execution_count": 20,
      "outputs": [
        {
          "output_type": "execute_result",
          "data": {
            "text/plain": [
              "Counter({-1: 5, 1: 4995})"
            ]
          },
          "metadata": {
            "tags": []
          },
          "execution_count": 20
        }
      ]
    },
    {
      "cell_type": "code",
      "metadata": {
        "id": "N7-ms2sIUaXL",
        "colab_type": "code",
        "colab": {
          "base_uri": "https://localhost:8080/",
          "height": 34
        },
        "outputId": "a38236f4-1f30-4ed1-ad8e-99996944e1a4"
      },
      "source": [
        "Counter(y_pred)"
      ],
      "execution_count": 21,
      "outputs": [
        {
          "output_type": "execute_result",
          "data": {
            "text/plain": [
              "Counter({-1: 33, 1: 4967})"
            ]
          },
          "metadata": {
            "tags": []
          },
          "execution_count": 21
        }
      ]
    },
    {
      "cell_type": "markdown",
      "metadata": {
        "id": "WlEiaXBiWU2f",
        "colab_type": "text"
      },
      "source": [
        "The model is probably best trained on examples that exclude outliers. In this case, we fit the model on the input features for examples from the majority class only.\n",
        "\n",
        "\n",
        "Like one-class SVM, the model will predict an inlier with a label of +1 and an outlier with a label of -1, therefore, the labels of the test set must be changed before evaluating the predictions."
      ]
    },
    {
      "cell_type": "code",
      "metadata": {
        "id": "v0CFa5-1UkZ9",
        "colab_type": "code",
        "colab": {
          "base_uri": "https://localhost:8080/",
          "height": 105
        },
        "outputId": "03a4a8d6-419f-4b1f-84f0-3bd32f64e01b"
      },
      "source": [
        "# fit on majority class\n",
        "trainX = X_train[y_train==0]\n",
        "model.fit(trainX)\n",
        "# detect outliers in the test set\n",
        "yhat = model.predict(X_test)\n",
        "# mark inliers 1, outliers -1\n",
        "y_test[y_test == 1] = -1\n",
        "y_test[y_test == 0] = 1\n",
        "print(Counter(y_test))\n",
        "# calculate score\n",
        "score = f1_score(y_test, yhat, pos_label=-1)\n",
        "print('F1 Score: %.3f' % score)"
      ],
      "execution_count": 24,
      "outputs": [
        {
          "output_type": "stream",
          "text": [
            "/usr/local/lib/python3.6/dist-packages/sklearn/ensemble/_iforest.py:248: FutureWarning: 'behaviour' is deprecated in 0.22 and will be removed in 0.24. You should not pass or set this parameter.\n",
            "  FutureWarning\n"
          ],
          "name": "stderr"
        },
        {
          "output_type": "stream",
          "text": [
            "Counter({-1: 5000})\n",
            "F1 Score: 0.012\n"
          ],
          "name": "stdout"
        }
      ]
    }
  ]
}